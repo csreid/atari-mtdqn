{
 "cells": [
  {
   "cell_type": "markdown",
   "metadata": {},
   "source": [
    "# First, a quick demo to show that they developed reasonable policies"
   ]
  },
  {
   "cell_type": "code",
   "execution_count": 2,
   "metadata": {},
   "outputs": [
    {
     "name": "stdout",
     "output_type": "stream",
     "text": [
      "Using matplotlib backend: Qt5Agg\n",
      "Building None\n",
      "Building None\n"
     ]
    }
   ],
   "source": [
    "%matplotlib\n",
    "import sys\n",
    "sys.path.append('..')\n",
    "\n",
    "import gym\n",
    "import torch\n",
    "from gym import ObservationWrapper\n",
    "from gym.wrappers import AtariPreprocessing\n",
    "from gym.wrappers.frame_stack import FrameStack\n",
    "from sklearn.manifold import TSNE\n",
    "import matplotlib.pyplot as plt\n",
    "import numpy as np\n",
    "\n",
    "from qlearner import TargetQLearning\n",
    "\n",
    "class TorchWrapper(ObservationWrapper):\n",
    "    def observation(self, obs):\n",
    "        return torch.tensor(obs).float()\n",
    "    \n",
    "q1 = torch.load('./MTQ_1_389474_steps.pt')\n",
    "q2 = torch.load('./MTQ_2_389474_steps.pt')\n",
    "    \n",
    "env1_name = 'BreakoutNoFrameskip-v4'\n",
    "env2_name = 'PongNoFrameskip-v4'\n",
    "\n",
    "env1 = TorchWrapper(FrameStack(AtariPreprocessing(gym.make(env1_name)), num_stack=4))\n",
    "env2 = TorchWrapper(FrameStack(AtariPreprocessing(gym.make(env2_name)), num_stack=4))\n",
    "\n",
    "qs = [q1, q2]\n",
    "\n",
    "agt1 = TargetQLearning(\n",
    "    n_actions=env1.action_space.n,\n",
    "    target_lag=1000,\n",
    "    opt_args={\n",
    "        \"lr\": 0.0001\n",
    "    },\n",
    "    transitions_per_fit=4,\n",
    "    memory_len=1\n",
    ")\n",
    "agt1.Q = q1\n",
    "\n",
    "agt2 = TargetQLearning(\n",
    "    n_actions=env2.action_space.n,\n",
    "    target_lag=1000,\n",
    "    opt_args={\n",
    "        \"lr\": 0.0001\n",
    "    },\n",
    "    transitions_per_fit=4,\n",
    "    memory_len=1\n",
    ")\n",
    "agt2.Q = q2"
   ]
  },
  {
   "cell_type": "markdown",
   "metadata": {},
   "source": [
    "# Pong"
   ]
  },
  {
   "cell_type": "code",
   "execution_count": 3,
   "metadata": {},
   "outputs": [],
   "source": [
    "anim = agt2.play(env2)"
   ]
  },
  {
   "cell_type": "markdown",
   "metadata": {},
   "source": [
    "# Breakout"
   ]
  },
  {
   "cell_type": "code",
   "execution_count": 4,
   "metadata": {},
   "outputs": [],
   "source": [
    "anim = agt1.play(env1)"
   ]
  },
  {
   "cell_type": "markdown",
   "metadata": {},
   "source": [
    "# Now, let's look at the generated features"
   ]
  },
  {
   "cell_type": "code",
   "execution_count": 5,
   "metadata": {},
   "outputs": [],
   "source": [
    "def get_features(s, agt):\n",
    "    vec_w = agt.Q[0]\n",
    "    h = agt.Q[1]\n",
    "\n",
    "    feats = vec_w(s)\n",
    "    feats = h(feats)\n",
    "    \n",
    "    return feats"
   ]
  },
  {
   "cell_type": "code",
   "execution_count": 6,
   "metadata": {},
   "outputs": [
    {
     "name": "stdout",
     "output_type": "stream",
     "text": [
      "Played 12  games of breakout\n",
      "Played 1  games of Pong\n"
     ]
    }
   ],
   "source": [
    "# Grab 5000 states from each env\n",
    "\n",
    "e1_states = torch.zeros((5000, 4, 84, 84))\n",
    "e2_states = torch.zeros((5000, 4, 84, 84))\n",
    "e1_screens = np.zeros((5000, 210, 160, 3), dtype='byte')\n",
    "e2_screens = np.zeros((5000, 210, 160, 3), dtype='byte')\n",
    "\n",
    "s = env1.reset()\n",
    "done = False\n",
    "games = 0\n",
    "for step in range(5000):\n",
    "    a = agt1.get_action(s)\n",
    "    s, r, done, _ = env1.step(a)\n",
    "    e1_states[step] = s\n",
    "    e1_screens[step] = env1.render(mode='rgb_array')\n",
    "    if done:\n",
    "        games += 1\n",
    "        done = False\n",
    "        s = env1.reset()\n",
    "print(f'Played {games}  games of breakout')\n",
    "        \n",
    "s = env2.reset()\n",
    "done = False\n",
    "games = 0\n",
    "for step in range(5000):\n",
    "    a = agt2.get_action(s)\n",
    "    s, r, done, _ = env2.step(a)\n",
    "    e2_states[step] = s\n",
    "    e2_screens[step] = env2.render(mode='rgb_array')\n",
    "    if done:\n",
    "        games += 1\n",
    "        done = False\n",
    "        s = env2.reset()\n",
    "print(f'Played {games}  games of Pong')"
   ]
  },
  {
   "cell_type": "code",
   "execution_count": 7,
   "metadata": {},
   "outputs": [
    {
     "name": "stdout",
     "output_type": "stream",
     "text": [
      "torch.Size([10000, 256])\n"
     ]
    }
   ],
   "source": [
    "f1 = get_features(e1_states, agt1)\n",
    "f2 = get_features(e2_states, agt2)\n",
    "fs = torch.cat([f1, f2])\n",
    "print(fs.shape)"
   ]
  },
  {
   "cell_type": "code",
   "execution_count": 8,
   "metadata": {},
   "outputs": [],
   "source": [
    "X_embedded = TSNE(n_components=2, perplexity=30, learning_rate=10).fit_transform(fs.detach().numpy())"
   ]
  },
  {
   "cell_type": "code",
   "execution_count": 17,
   "metadata": {},
   "outputs": [],
   "source": [
    "vals = np.zeros(10000)\n",
    "vals[:5000] = torch.max(agt1.Q[2](f1), dim=1).values.detach().numpy()\n",
    "vals[5000:] = torch.max(agt2.Q[2](f2), dim=1).values.detach().numpy()\n",
    "\n",
    "plt.scatter(X_embedded[:, 0], X_embedded[:, 1], c=vals, alpha=0.3, cmap='magma')\n",
    "\n",
    "cb = plt.colorbar()\n",
    "plt.title('t-SNE Plot for Features Extracted from Pong and Breakout')\n",
    "plt.savefig('../figs/atari_tsne.png')"
   ]
  },
  {
   "cell_type": "code",
   "execution_count": 19,
   "metadata": {},
   "outputs": [],
   "source": [
    "envs = np.zeros(10000)\n",
    "envs[:5000] = 0\n",
    "envs[5000:] = 1.\n",
    "\n",
    "plt.scatter(X_embedded[:, 0], X_embedded[:, 1], c=envs, alpha=0.3, cmap='magma')\n",
    "cb = plt.colorbar(ticks=[0, 1])\n",
    "cb.ax.set_yticklabels(['Breakout', 'Pong'])\n",
    "plt.title('t-SNE Plot Colored by Game')\n",
    "plt.savefig('../figs/atari_game_tsne.png')"
   ]
  },
  {
   "cell_type": "code",
   "execution_count": null,
   "metadata": {},
   "outputs": [],
   "source": []
  }
 ],
 "metadata": {
  "kernelspec": {
   "display_name": "Python 3",
   "language": "python",
   "name": "python3"
  },
  "language_info": {
   "codemirror_mode": {
    "name": "ipython",
    "version": 3
   },
   "file_extension": ".py",
   "mimetype": "text/x-python",
   "name": "python",
   "nbconvert_exporter": "python",
   "pygments_lexer": "ipython3",
   "version": "3.7.7"
  }
 },
 "nbformat": 4,
 "nbformat_minor": 4
}
